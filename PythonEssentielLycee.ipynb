{
  "nbformat": 4,
  "nbformat_minor": 0,
  "metadata": {
    "colab": {
      "provenance": [],
      "mount_file_id": "1s5Q8z3eYY2vF9aky6F8vnMX6hENXwSpC",
      "authorship_tag": "ABX9TyMCd2GLPVz3rx/gpmDQtG+1"
    },
    "kernelspec": {
      "name": "python3",
      "display_name": "Python 3"
    },
    "language_info": {
      "name": "python"
    }
  },
  "cells": [
    {
      "cell_type": "markdown",
      "source": [
        "# Python : l'essentiel pour le lycée\n",
        "\n",
        "Je vous propose dans ce cours un rapide tour d'horizon des connaissances essentielles à avoir au lycée."
      ],
      "metadata": {
        "id": "LyvjNM9hS5rB"
      }
    },
    {
      "cell_type": "markdown",
      "source": [
        "## 1. Afficher des informations sur la console python\n",
        "\n",
        "La commande *print()* permet d'afficher du texte, la valeur d'une variable, etc.\n",
        "\n",
        "Essayer le code suivant :"
      ],
      "metadata": {
        "id": "pi1D5RH9UTBW"
      }
    },
    {
      "cell_type": "code",
      "source": [
        "print('Hello World !')"
      ],
      "metadata": {
        "colab": {
          "base_uri": "https://localhost:8080/"
        },
        "id": "dmaA8MNmbqlM",
        "outputId": "96ab4711-a27f-4728-ca60-d6ec1cb5eadf"
      },
      "execution_count": 29,
      "outputs": [
        {
          "output_type": "stream",
          "name": "stdout",
          "text": [
            "Hello World !\n"
          ]
        }
      ]
    },
    {
      "cell_type": "markdown",
      "source": [
        "Pour afficher la valeur d'une variable, il suffit d'appeler la variable à l'aide de la commande *print(a)* par exemple.\n",
        "Pour afficher plusieurs information, on les sépare par une virgule."
      ],
      "metadata": {
        "id": "6r0sy9bSj1Hu"
      }
    },
    {
      "cell_type": "markdown",
      "source": [
        "### Application\n",
        "Dans la zone de code ci-dessous, la première ligne impose à la variable « *a* » la valeur de 4. Écrire le code permettart d'afficher la valeur de la variable « *a* » sous la forme « a = 4 »."
      ],
      "metadata": {
        "id": "TjR-4W_5cUnS"
      }
    },
    {
      "cell_type": "code",
      "source": [
        "#@ansers\n",
        "a = 4"
      ],
      "metadata": {
        "id": "S7SNbuJfdGmr"
      },
      "execution_count": 30,
      "outputs": []
    },
    {
      "cell_type": "code",
      "source": [
        "#@title Solution\n",
        "a = 4\n",
        "print('a =',a)"
      ],
      "metadata": {
        "colab": {
          "base_uri": "https://localhost:8080/"
        },
        "cellView": "form",
        "id": "1W3dGhV0cZPv",
        "outputId": "fdc012f0-527b-48bc-de6b-575496feb4e7"
      },
      "execution_count": 31,
      "outputs": [
        {
          "output_type": "stream",
          "name": "stdout",
          "text": [
            "a = 4\n"
          ]
        }
      ]
    },
    {
      "cell_type": "markdown",
      "source": [
        "## 2. Demander des informations à l'utilisateur\n",
        "\n",
        "Pour demader une information, on utilise la commande « *input()* »."
      ],
      "metadata": {
        "id": "y7AVchxPbx8J"
      }
    },
    {
      "cell_type": "code",
      "source": [
        "age = input('Veuillez donner votre âge : ')\n",
        "print('Vous avez', age, 'ans')"
      ],
      "metadata": {
        "id": "fpg7oIsap8PC"
      },
      "execution_count": null,
      "outputs": []
    },
    {
      "cell_type": "markdown",
      "source": [
        "Cette commande permet donc de définir une variable en lui assignent le type par défaut chaine de caractères (string) et une valeur en fonction de la réponse donnée par l'utilisateur du programme.\n",
        "\n",
        "Regarder le résultat suivant :"
      ],
      "metadata": {
        "id": "LTgXw_vsxAO-"
      }
    },
    {
      "cell_type": "code",
      "source": [
        "age = input('Veuillez donner votre âge : ')\n",
        "print('Vous avez', age, 'ans')\n",
        "print(type(age))"
      ],
      "metadata": {
        "id": "IUKnAKhRyavH"
      },
      "execution_count": null,
      "outputs": []
    },
    {
      "cell_type": "markdown",
      "source": [
        "Si vous voulez définir un type de variable, il faut modifier la commande *input* en conséquence en utilisant la commande *int()* pour attendre un nombre entier ou *float()* pour un nombre décimal.\n"
      ],
      "metadata": {
        "id": "2EU6Cx_UC-r2"
      }
    },
    {
      "cell_type": "code",
      "source": [
        "age = int(input('Veuillez donner votre âge : '))\n",
        "print('Vous avez', age, 'ans')\n",
        "print(type(age))"
      ],
      "metadata": {
        "id": "me1b3HKyDbXJ"
      },
      "execution_count": null,
      "outputs": []
    },
    {
      "cell_type": "code",
      "source": [
        "age = float(input('Veuillez donner votre âge : '))\n",
        "print('Vous avez', age, 'ans')\n",
        "print(type(age))"
      ],
      "metadata": {
        "id": "tKBLURsUFeRi"
      },
      "execution_count": null,
      "outputs": []
    }
  ]
}