{
  "nbformat": 4,
  "nbformat_minor": 0,
  "metadata": {
    "colab": {
      "provenance": [],
      "mount_file_id": "1s5Q8z3eYY2vF9aky6F8vnMX6hENXwSpC",
      "authorship_tag": "ABX9TyMKUIu2BSRBBuNRCpbAbFyc"
    },
    "kernelspec": {
      "name": "python3",
      "display_name": "Python 3"
    },
    "language_info": {
      "name": "python"
    }
  },
  "cells": [
    {
      "cell_type": "markdown",
      "source": [
        "# Python : l'essentiel pour le lycée\n",
        "\n",
        "Je vous propose dans ce cours un rapide tour d'horizon des connaissances essentielles à avoir au lycée."
      ],
      "metadata": {
        "id": "LyvjNM9hS5rB"
      }
    },
    {
      "cell_type": "markdown",
      "source": [
        "## 1. Afficher des informations sur la console python\n",
        "\n",
        "La commande *print()* permet d'afficher du texte, la valeur d'une variable, etc.\n",
        "\n",
        "Essayer le code suivant :"
      ],
      "metadata": {
        "id": "pi1D5RH9UTBW"
      }
    },
    {
      "cell_type": "code",
      "source": [
        "print('Hello World !')"
      ],
      "metadata": {
        "colab": {
          "base_uri": "https://localhost:8080/"
        },
        "id": "dmaA8MNmbqlM",
        "outputId": "96ab4711-a27f-4728-ca60-d6ec1cb5eadf"
      },
      "execution_count": 29,
      "outputs": [
        {
          "output_type": "stream",
          "name": "stdout",
          "text": [
            "Hello World !\n"
          ]
        }
      ]
    },
    {
      "cell_type": "markdown",
      "source": [
        "Pour afficher la valeur d'une variable, il suffit d'appeler la variable à l'aide de la commande *print(a)* par exemple.\n",
        "Pour afficher plusieurs information, on les sépare par une virgule."
      ],
      "metadata": {
        "id": "6r0sy9bSj1Hu"
      }
    },
    {
      "cell_type": "markdown",
      "source": [
        "### Application\n",
        "Dans la zone de code ci-dessous, la première ligne impose à la variable « *a* » la valeur de 4. Écrire le code permettant d'afficher la valeur de la variable « *a* » sous la forme « a = 4 »."
      ],
      "metadata": {
        "id": "TjR-4W_5cUnS"
      }
    },
    {
      "cell_type": "code",
      "source": [
        "a = 4"
      ],
      "metadata": {
        "id": "S7SNbuJfdGmr"
      },
      "execution_count": 30,
      "outputs": []
    },
    {
      "cell_type": "code",
      "source": [
        "#@title Solution\n",
        "a = 4\n",
        "print('a =',a)"
      ],
      "metadata": {
        "cellView": "form",
        "id": "1W3dGhV0cZPv"
      },
      "execution_count": null,
      "outputs": []
    },
    {
      "cell_type": "markdown",
      "source": [
        "## 2. Demander des informations à l'utilisateur\n",
        "\n",
        "Pour demader une information, on utilise la commande « *input()* »."
      ],
      "metadata": {
        "id": "y7AVchxPbx8J"
      }
    },
    {
      "cell_type": "code",
      "source": [
        "age = input('Veuillez donner votre âge : ')\n",
        "print('Vous avez', age, 'ans')"
      ],
      "metadata": {
        "id": "fpg7oIsap8PC"
      },
      "execution_count": null,
      "outputs": []
    },
    {
      "cell_type": "markdown",
      "source": [
        "Cette commande permet donc de définir une variable en lui assignent le type par défaut chaine de caractères (string) et une valeur en fonction de la réponse donnée par l'utilisateur du programme.\n",
        "\n",
        "Regarder le résultat suivant :"
      ],
      "metadata": {
        "id": "LTgXw_vsxAO-"
      }
    },
    {
      "cell_type": "code",
      "source": [
        "age = input('Veuillez donner votre âge : ')\n",
        "print('Vous avez', age, 'ans')\n",
        "print(type(age))"
      ],
      "metadata": {
        "id": "IUKnAKhRyavH"
      },
      "execution_count": null,
      "outputs": []
    },
    {
      "cell_type": "markdown",
      "source": [
        "Si vous voulez définir un type de variable, il faut modifier la commande *input* en conséquence en utilisant la commande *int()* pour attendre un nombre entier ou *float()* pour un nombre décimal.\n"
      ],
      "metadata": {
        "id": "2EU6Cx_UC-r2"
      }
    },
    {
      "cell_type": "code",
      "source": [
        "age = int(input('Veuillez donner votre âge : '))\n",
        "print('Vous avez', age, 'ans')\n",
        "print(type(age))"
      ],
      "metadata": {
        "id": "me1b3HKyDbXJ"
      },
      "execution_count": null,
      "outputs": []
    },
    {
      "cell_type": "code",
      "source": [
        "age = float(input('Veuillez donner votre âge : '))\n",
        "print('Vous avez', age, 'ans')\n",
        "print(type(age))"
      ],
      "metadata": {
        "id": "tKBLURsUFeRi"
      },
      "execution_count": null,
      "outputs": []
    },
    {
      "cell_type": "markdown",
      "source": [
        "## 3. Les variables\n",
        "\n",
        "Une variable doit être déclarée (la nommer et lui affecter une valeur) avant son utilisation dans une expression sous peine d'une erreur. Pour définir la variable *texteVar*, il suffit de faire : `texteVar = 'Bonjour'`.\n",
        "\n",
        "Le nom d'une variable peut commencer par n'importe lettre minuscule ou majuscule ou un '_', puis des lettres, des chiffres ou des '_'.\n",
        "\n",
        "Pour déclarer une variable sans valeur, on tape : `texteVar = None` (None est l'équivalent de null dans d'autres langages).\n",
        "\n",
        "Une convention implicite en python veut que les variables soient notées sous la formes « nomVar ».\n",
        "\n",
        "Exemple de code :"
      ],
      "metadata": {
        "id": "tbTVgw_qUeAC"
      }
    },
    {
      "cell_type": "code",
      "source": [
        "# On crée la variable *soldeVar* et on lui affecte la valeur 2000\n",
        "soldeVar = 2000\n",
        "# La commande print peut afficher la variable *soldeVar* puisqu'elle existe.\n",
        "print(f'le solde actuel est de {soldeVar} euro(s)')\n",
        "\n",
        "# Déclaration et affectation d'une valeur en même temps pour la variable *depenseVar*\n",
        "depenseVar = int(input('Entrer la dépense : '))\n",
        "\n",
        "nouveau_soldeVar = soldeVar - depenseVar\n",
        "print(f'le nouveau solde est de {nouveau_soldeVar} euro(s)')"
      ],
      "metadata": {
        "id": "TUOE7NeCzd8E"
      },
      "execution_count": null,
      "outputs": []
    },
    {
      "cell_type": "markdown",
      "source": [
        "## 4. Les listes\n",
        "\n",
        "On peut se représenter une liste comme étant l'équivalent d'une colonne dans un tableur.\n",
        "\n",
        "Une liste vide se déclare comme suit :\n",
        "```\n",
        "nombresListe = []\n",
        "\n",
        "# ou par\n",
        "\n",
        "nombresListe = list()\n",
        "```\n",
        "\n",
        "Une liste peut être homogène : \n",
        "```\n",
        "nombresListe = [1, 2, 3]\n",
        "```\n",
        "\n",
        "hétérogène :\n",
        "```\n",
        "contactsListe = [’Paul’, 0617, ’Sophie’, 0614]\n",
        "```\n",
        "\n",
        "Comme dans une colonne de tableur, une liste peut contenir des opérations :"
      ],
      "metadata": {
        "id": "pLzmTu6S1CHI"
      }
    },
    {
      "cell_type": "code",
      "source": [
        "x = 1.5\n",
        "nombresListe = [0.5, 2, 3 * x]\n",
        "print(nombresListe)"
      ],
      "metadata": {
        "colab": {
          "base_uri": "https://localhost:8080/"
        },
        "id": "owxPUfaM4x49",
        "outputId": "f6e11c25-24d6-47c9-c504-ecef91566c4f"
      },
      "execution_count": 13,
      "outputs": [
        {
          "output_type": "stream",
          "name": "stdout",
          "text": [
            "[0.5, 2, 4.5]\n"
          ]
        }
      ]
    },
    {
      "cell_type": "markdown",
      "source": [
        "## 5. Les conditions\n",
        "\n"
      ],
      "metadata": {
        "id": "l9a_D7C05jT1"
      }
    }
  ]
}