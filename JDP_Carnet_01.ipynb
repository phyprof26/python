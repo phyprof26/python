{
  "nbformat": 4,
  "nbformat_minor": 0,
  "metadata": {
    "colab": {
      "provenance": []
    },
    "kernelspec": {
      "name": "python3",
      "display_name": "Python 3"
    },
    "language_info": {
      "name": "python"
    }
  },
  "cells": [
    {
      "cell_type": "markdown",
      "source": [
        "# CARNET 01 : Le codage du jeu du pendu à l'aide de Jupyter et de Edupython\n",
        "\n",
        "\n",
        "\n"
      ],
      "metadata": {
        "id": "Hjh4aCMfHA2g"
      }
    },
    {
      "cell_type": "markdown",
      "source": [
        "# DESCRIPTION"
      ],
      "metadata": {
        "id": "fUmSiSTK4fn9"
      }
    },
    {
      "cell_type": "markdown",
      "source": [
        "Le but de cette série d'exercices est de réaliser le code du jeu du pendu en python.\n",
        "\n",
        "## Progression\n",
        "\n",
        "Les différents carnets de Jupyter vont vous permettre de créer des bouts codes de manière dynamique. Une fois validé, mis bout à bout, ces codes formeront le programme complet du jeu.\n",
        "\n",
        "Chaque carnet se décompose donc en différentes missions. Et normalement, à la fin du carnet vous devez être capable de créer le code complet correspondant à une partie du programme final.\n",
        "\n",
        "## Exemple\n",
        "\n",
        "Dans le carnet d'aujourd'hui, vous allez apprendre comment afficher du texte et vous en servir pour créer la fonction qui affichera la règle du jeu au début de chaque partie."
      ],
      "metadata": {
        "id": "PLd9zhO81KvW"
      }
    },
    {
      "cell_type": "markdown",
      "source": [
        "# TRAVAIL"
      ],
      "metadata": {
        "id": "mM3fvNJs4Nvf"
      }
    },
    {
      "cell_type": "markdown",
      "source": [
        "## Mission 1\n",
        "\n",
        "### Afficher un texte dans la console python"
      ],
      "metadata": {
        "id": "pkNEkYLbHD61"
      }
    },
    {
      "cell_type": "markdown",
      "source": [
        "**Python :** *print()* : sert à afficher un texte à l'écran.\n",
        "  \n",
        "*   Exemple : `print(\"Bonjour\")`.\n",
        "\n",
        "**TRAVAIL :** Afficher le titre et la règle dans la console. Écrire pour cela le bon code dans la zone zone noire ci-dessous. Pour exécuter le code faire un clic gauche sur la flèche à gauche de la zone de code.\n",
        "\n",
        "**Ci-dessous les informtions à afficher :**\n",
        "\n",
        "*Titre :* Le Jeu du Pendu\n",
        "\n",
        "*Règle :* Vous disposez de huit essais pour trouver le mot mystère. Le mot à trouver est écrit en minuscule et peut comporter des lettres accentuées. Il peut aussi s'agir d'un verbe à l'infinitif.\n",
        "\n",
        "Bonne chance !"
      ],
      "metadata": {
        "id": "Whfcr-e-oW6g"
      }
    },
    {
      "cell_type": "code",
      "source": [],
      "metadata": {
        "id": "F3OVr5h-o9Wd"
      },
      "execution_count": null,
      "outputs": []
    },
    {
      "cell_type": "markdown",
      "source": [
        "## Mission 2\n",
        "\n",
        "### Bloquer le programme jusqu'à ce que le joueur appuie sur la touche **entrée**"
      ],
      "metadata": {
        "id": "wEuYPvRhiRyu"
      }
    },
    {
      "cell_type": "markdown",
      "source": [
        "**Python :** *input() : Attend une donnée du clavier.* \n",
        "\n",
        "*   Exemple : `input(\"Quel est votre prénom ? \")`\n",
        "\n",
        "**TRAVAIL :** Utiliser cette commande pour que la règle s'efface si le joueur appuit sur la touche ENTRÉE du clavier."
      ],
      "metadata": {
        "id": "koeYXzzZivpb"
      }
    },
    {
      "cell_type": "code",
      "source": [],
      "metadata": {
        "id": "sIw2TpeDoTAP"
      },
      "execution_count": null,
      "outputs": []
    },
    {
      "cell_type": "markdown",
      "source": [
        "## Mission 3\n",
        "\n",
        "### Créer une fonction qui affiche la règle"
      ],
      "metadata": {
        "id": "YUp-RBMWjxbJ"
      }
    },
    {
      "cell_type": "markdown",
      "source": [
        "**Python :** *un fonction est définie par la séquence : def nom_fonction():*\n",
        "\n",
        "  * Exemple : `def affiche_regle():`\n",
        "\n",
        "    Attention ! les lignes contenues dans la fonction doivent être indentées.\n",
        "\n",
        "Une fonction peut être appelée par la partie principale du programme par le code : `affiche_regle()`\n",
        "\n",
        "**TRAVAIL :** Créer la fonction *affiche_regle*. Cette fonction doit afficher la règle et attendre que le joueur appuie sur la touche ENTRÉE du clavier pour que le jeu continue.\n",
        "\n"
      ],
      "metadata": {
        "id": "hIX0DkeukAh8"
      }
    },
    {
      "cell_type": "markdown",
      "source": [],
      "metadata": {
        "id": "4YXfJA7vxEHE"
      }
    },
    {
      "cell_type": "code",
      "source": [],
      "metadata": {
        "id": "5jnLMl9tk2ui"
      },
      "execution_count": null,
      "outputs": []
    },
    {
      "cell_type": "markdown",
      "source": [
        "## Fin du premier carnet"
      ],
      "metadata": {
        "id": "kxhxokbdyPqZ"
      }
    },
    {
      "cell_type": "markdown",
      "source": [
        "**TRAVAIL :** Créer le fichier python du jeu du pendu\n",
        "\n",
        "*  Ouvrir le logiciel Edupython.\n",
        "*  Créer un nouveau fichier python.\n",
        "*  Enregistrer ce fichier sous le nom « jeu_pendu.py » dans le dossier SNT de votre session.\n",
        "*  Copier/coller le code de la dernière mission de ce carnet dans Edupython.\n",
        "*  Sauvegarder le fichier.\n",
        "*  Tester le code dans Edupython.\n",
        "\n",
        "Ce fichier python sera complété au fil des différents carnets Jupyter.\n",
        "\n",
        "\n",
        "\n"
      ],
      "metadata": {
        "id": "EeOMrjZuyYi8"
      }
    }
  ]
}