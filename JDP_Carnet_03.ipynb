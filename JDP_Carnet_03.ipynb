{
  "nbformat": 4,
  "nbformat_minor": 0,
  "metadata": {
    "colab": {
      "provenance": []
    },
    "kernelspec": {
      "name": "python3",
      "display_name": "Python 3"
    },
    "language_info": {
      "name": "python"
    }
  },
  "cells": [
    {
      "cell_type": "markdown",
      "source": [
        "# CARNET 03 : Créer une interaction avec le joueur"
      ],
      "metadata": {
        "id": "QM682qcVzUtx"
      }
    },
    {
      "cell_type": "markdown",
      "source": [
        "## OBJECTIF\n",
        "\n",
        "Demander et tester la proposition du joueur\n"
      ],
      "metadata": {
        "id": "cRNb9sg5znVm"
      }
    },
    {
      "cell_type": "markdown",
      "source": [
        "## MISSON 01\n",
        "\n",
        "Objectif : Demader une lettre au joueur."
      ],
      "metadata": {
        "id": "Lab2KBCQ02zN"
      }
    },
    {
      "cell_type": "markdown",
      "source": [
        "#### TRAVAIL\n",
        "\n",
        "Créer le code qui demande une lettre. La variable sera appelée *lettre_proposee*, en vous servant de la fonction *input()* sachant que cette fonction peut être la valeur assignée à une variable.\n",
        "\n",
        "*exemple :*\n",
        "\n",
        "```\n",
        "# a = input()\n",
        "```\n",
        "\n"
      ],
      "metadata": {
        "id": "x5XzRVEY1OEx"
      }
    },
    {
      "cell_type": "code",
      "source": [],
      "metadata": {
        "id": "Uc13Ll3l1w6v"
      },
      "execution_count": null,
      "outputs": []
    },
    {
      "cell_type": "markdown",
      "source": [
        "## CONNAISSANCE PYTHON"
      ],
      "metadata": {
        "id": "sDgwYIp22gNr"
      }
    },
    {
      "cell_type": "markdown",
      "source": [
        "La boucle *while* (tant que)\n",
        "\n",
        "```\n",
        "# test = 0\n",
        "# while test < 3 :\n",
        "#    print(test, \" Bonjour\")\n",
        "```\n",
        "\n",
        "Recopier ce code et modifier le pour que l'affichage s'arrête \n"
      ],
      "metadata": {
        "id": "S759Rxix2n2f"
      }
    },
    {
      "cell_type": "code",
      "source": [],
      "metadata": {
        "id": "lXvn2VYh3hqo"
      },
      "execution_count": null,
      "outputs": []
    },
    {
      "cell_type": "markdown",
      "source": [
        "## MISSION 02\n",
        "\n",
        "Objectif : contrôler le nobre d'essais\n"
      ],
      "metadata": {
        "id": "HKK4LxrL4Pnm"
      }
    },
    {
      "cell_type": "markdown",
      "source": [
        "#### TRAVAIL \n",
        "\n",
        "Réaliser un code qui demande 8 fois une lettre au joueur."
      ],
      "metadata": {
        "id": "5hta_bk24aW8"
      }
    },
    {
      "cell_type": "code",
      "source": [],
      "metadata": {
        "id": "xE3SgSXs8qRb"
      },
      "execution_count": null,
      "outputs": []
    },
    {
      "cell_type": "markdown",
      "source": [
        "## MISSON 03\n",
        "\n",
        "Objectif : commencer le code central du programme"
      ],
      "metadata": {
        "id": "m0b9JdYS8q_t"
      }
    },
    {
      "cell_type": "markdown",
      "source": [
        "#### TRAVAIL\n",
        "\n",
        "Dans Edupython, écrire les lignes du code central du programme.\n",
        "\n",
        "La structure du programme doit être la suivante :\n",
        "\n",
        "--\n",
        "\n",
        "Déclaration des variables globales : *mot_mystere*, *mot_partiel*, *essais*\n",
        "\n",
        "La fonction *regle_jeu*\n",
        "\n",
        "La fonction *initialise_mot_partiel*\n",
        "\n",
        "La fonction *affichage*\n",
        "\n",
        "\n",
        "Un appel des trois fonctions précédentes dans l'ordre.\n",
        "\n",
        "Une boucle qui demande au maximum huit fois une lettre au joueur.\n"
      ],
      "metadata": {
        "id": "1C0-wmTl84Bz"
      }
    }
  ]
}