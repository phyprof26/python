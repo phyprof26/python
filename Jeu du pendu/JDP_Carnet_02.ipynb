{
  "nbformat": 4,
  "nbformat_minor": 0,
  "metadata": {
    "colab": {
      "provenance": []
    },
    "kernelspec": {
      "name": "python3",
      "display_name": "Python 3"
    },
    "language_info": {
      "name": "python"
    }
  },
  "cells": [
    {
      "cell_type": "markdown",
      "source": [
        "# CARNET 02 :  Les premières variables du jeu."
      ],
      "metadata": {
        "id": "Ra6kkT4Z10JH"
      }
    },
    {
      "cell_type": "markdown",
      "source": [
        "## OBJECTIF\n",
        "\n",
        "Créer les différentes variables globales du jeu et afficher le mot mystère sous la forme « _ _ _ _ _ »."
      ],
      "metadata": {
        "id": "MfuL8xzK2dJl"
      }
    },
    {
      "cell_type": "markdown",
      "source": [
        "## CONNAISSANCE PYTHON"
      ],
      "metadata": {
        "id": "LeZ6NUpy73Nz"
      }
    },
    {
      "cell_type": "markdown",
      "source": [
        "### Définitions :\n",
        "*  Variable : un nom attaché à un objet particulier qui contient une information.\n",
        "*  Variable globale : variable définie pour tout le programme et non pas pour une fonction particulière.\n",
        "\n",
        "*Exemple :*\n",
        "\n",
        "``` \n",
        "a = 4\n",
        "```\n",
        "Cette ligne de code crée la variable  ```a``` et lui affecte la valeur entière 4. Cette variable ```a``` sera donc du type *entier*.\n",
        "\n",
        "```\n",
        "texte = \"bonjour\"\n",
        "```\n",
        "Cette ligne créer la variable ```texte``` et lui assigne les caractères *b o n j o u r*. Cette variable est alors du type *string*.\n",
        "\n",
        "En python, une variable n'a pas à être déclarer avant de lui affecter une valeur. ```annee = 2008``` crée la variable année et lui affecte la valeur 2008 en même temps.\n",
        "\n",
        "### De la bonne méthode\n",
        "Le rôle d'une variable est d'autant plus facile à comprendre que son nom est explicicte.\n",
        "\n",
        "Exemple : ```a = 2008``` (pas facile de comprendre qu'il s'agit d'une date !). Par contre, ```annee = 2008``` facilite la tâche.\n",
        "\n",
        "Trois règles d'écriture existent :\n",
        "* camelCase : ```anneeNaissance``` (premier mot en minuscule, première lettre des mot suivants en majuscule) ;\n",
        "* PascalCase : ```AnneeNaissance``` (toutes les première lettres en majuscule) ;\n",
        "* snake_case : ```annee_naissance```\n",
        "\n",
        "Pour la beauté du code, il faut choisir des noms de variables facile à comprendre et toujours écrit avec la même règle."
      ],
      "metadata": {
        "id": "3p2JXC2B8CQU"
      }
    },
    {
      "cell_type": "markdown",
      "source": [
        "## MISSION 01\n",
        "\n",
        "Objectif : création de deux variables globales"
      ],
      "metadata": {
        "id": "P9niOE1I_UUr"
      }
    },
    {
      "cell_type": "markdown",
      "source": [
        "#### TRAVAIL\n",
        "\n",
        "Compléter le code ci-dessous pour créer et affecter le mot à trouver (voiture) à la variable *mot_mystère*."
      ],
      "metadata": {
        "id": "AmCRVAXn_i2V"
      }
    },
    {
      "cell_type": "code",
      "source": [
        "mot_mystere = \"voiture\""
      ],
      "metadata": {
        "id": "bSowRLlmAiDF"
      },
      "execution_count": null,
      "outputs": []
    },
    {
      "cell_type": "markdown",
      "source": [
        "#### TRAVAIL\n",
        "\n",
        "Taper ci-dessous le code pour créer la variable « essais » qui servira de compteur pour contrôle l'arrêt du programme."
      ],
      "metadata": {
        "id": "XWbyH24Be7AV"
      }
    },
    {
      "cell_type": "code",
      "source": [],
      "metadata": {
        "id": "0ngiLNjvBZMo"
      },
      "execution_count": null,
      "outputs": []
    },
    {
      "cell_type": "markdown",
      "source": [
        "## CONNAISSANCE PYTHON"
      ],
      "metadata": {
        "id": "CvpAQ7sACA-G"
      }
    },
    {
      "cell_type": "markdown",
      "source": [
        "### Création d'une variable par réaffectation\n",
        "\n",
        "```\n",
        "i = 9\n",
        "i = i + 1\n",
        "``` \n",
        "En informatique cette séquence, affecte la valeur 9 à la variable *i* puis prend la valeur de *i* (soit 9), ajoute *1* et affecte le résultat de nouveau dans la variable *i* (qui vaut alors 10 à la fin du code).\n",
        "\n",
        "### Boucle For\n",
        "\n",
        "Cette boucle permet de répéter plusieurs fois une (des) action(s).\n",
        "\n",
        "Exemple :\n",
        "\n",
        "```\n",
        "for compteur in range(5):\n",
        "  i = i + 1\n",
        "print(\"i = \", i)\n",
        "```\n",
        "\n",
        "Après cette boucle, i aura quelle valeus ? Essayer le code pour vérifier !"
      ],
      "metadata": {
        "id": "3ujUKPL9g3MF"
      }
    },
    {
      "cell_type": "code",
      "source": [],
      "metadata": {
        "id": "pN84F4p9g-NK"
      },
      "execution_count": null,
      "outputs": []
    },
    {
      "cell_type": "markdown",
      "source": [
        "### Connaître la longueur d'une chaîne de caractères\n",
        "\n",
        "```\n",
        "mot = \"voiture\"\n",
        "a = len(mot)\n",
        "print(\"a = \",a)\n",
        "```\n",
        "\n",
        "Quelle valeur la variable *a* aura-t-elle ?\n",
        "\n",
        "Essayer le code ci-dessous pour vérifier votre réponse."
      ],
      "metadata": {
        "id": "xm4JpzwpgwE1"
      }
    },
    {
      "cell_type": "code",
      "source": [],
      "metadata": {
        "id": "4EScVXXindHw"
      },
      "execution_count": null,
      "outputs": []
    },
    {
      "cell_type": "markdown",
      "source": [
        "### Ajouter une lettre à une variable de type chaîne de caractère\n",
        "\n",
        "Imaginons la variable *mot*. Cette variable a pour valeur *voiture*.\n",
        "\n",
        "Si l'on veut mettre la valeur *voiture* au pluriel, on peut utiliser la technique *mot = mot + 's'.\n",
        "\n",
        "Taper ci-dessous le code correspondant à cette modification."
      ],
      "metadata": {
        "id": "DIOiN297jWRI"
      }
    },
    {
      "cell_type": "code",
      "source": [],
      "metadata": {
        "id": "0ypTx9zGkXO5"
      },
      "execution_count": null,
      "outputs": []
    },
    {
      "cell_type": "markdown",
      "source": [
        "## MISSION 02\n",
        "\n",
        "Objectif : création d'une variable appelée *mot_partiel* qui correspondra au *mot_mystere* sous la forme de traits."
      ],
      "metadata": {
        "id": "CITH9Aapf025"
      }
    },
    {
      "cell_type": "markdown",
      "source": [
        "Aide :\n",
        "\n",
        "* Créer la variable *mot_partiel*.\n",
        "* Inittaliser la variable à une valeur vide.\n",
        "* déterminer la longueur de la variable *mot_mystere*\n",
        "* utiliser la longeur du mot mystère pour redéfinir la variable *mot_partiel* à la valeur *_ _ _* (autant de traits que de lettres dans le mot mystère).\n",
        "\n",
        "Compléter ci-dessous, le code pour réaliser l'objectif."
      ],
      "metadata": {
        "id": "SKBJD-LCgctD"
      }
    },
    {
      "cell_type": "code",
      "source": [],
      "metadata": {
        "id": "dCT6r-4ai3Tc"
      },
      "execution_count": null,
      "outputs": []
    },
    {
      "cell_type": "markdown",
      "source": [
        "## CONNAISSANCE PYTHON"
      ],
      "metadata": {
        "id": "BIXh5XKfnADJ"
      }
    },
    {
      "cell_type": "markdown",
      "source": [
        "### Extraction d'une lettre dans une chaîne de caractères.\n",
        "\n",
        "Une chaîne de caractères est une variable un peu spéciale. En effet, elle peut être traîtée comme une liste de caractères.\n",
        "\n",
        "```\n",
        "# print(mot_mystere[2])\n",
        "```\n",
        "\n",
        "Cette commande affichera une lettre du *mot_mystere*. Laquelle ?\n",
        "\n",
        "Taper le code pour vérifier votre réponse.\n",
        "\n",
        "Comment afficher la prenière lettre ?"
      ],
      "metadata": {
        "id": "_ye-5dbZnHuh"
      }
    },
    {
      "cell_type": "code",
      "source": [],
      "metadata": {
        "id": "-5ljAXvdoXHl"
      },
      "execution_count": null,
      "outputs": []
    },
    {
      "cell_type": "markdown",
      "source": [
        "## MISSION 03\n",
        "\n",
        "Objectif : afficher le mot partiel"
      ],
      "metadata": {
        "id": "5I30jLU8Z7tZ"
      }
    },
    {
      "cell_type": "markdown",
      "source": [
        "* On veut alors que le programme affiche : *_  _  _  _  _  _  _* ou *v  _  _  _  _  _  _* si la lettre *v* a été trouvée par exemple.\n",
        "\n",
        "* Aide : pour cela il faut créer une nouvelle variable appelée *mot_affiche* par exemple, qui contienne les lettres du *mot_partiel* séparées par des espaces."
      ],
      "metadata": {
        "id": "qRJH9DoraHDy"
      }
    },
    {
      "cell_type": "markdown",
      "source": [
        "#### Mission 3.1\n",
        "\n",
        "Objectif : créer et initialiser la variable *mot_affiche* qui correspondra au *mot_partiel* éclaté."
      ],
      "metadata": {
        "id": "awqIwUnDdUtE"
      }
    },
    {
      "cell_type": "markdown",
      "source": [
        "* créer la variable *mot_affiche* et l'initialiser à une valeur vide.\n",
        "* En vous servant d'une boucle « for » réaffecter la variable *mot_affiche*.\n",
        "\n",
        "si *mot_partiel* est \"v_i_u_e\" alors *mot_affiche* sera \"v _ i _ u _ e\" (un espace entre chaque lettre) "
      ],
      "metadata": {
        "id": "o0pcJUfa7QJT"
      }
    },
    {
      "cell_type": "markdown",
      "source": [
        "#### Mission 3.2\n",
        "\n",
        "Objectif : afficher le *mot_partiel* éclaté"
      ],
      "metadata": {
        "id": "2w3jRp-OssRC"
      }
    },
    {
      "cell_type": "markdown",
      "source": [
        "Écrire le code qui permet d'afficher les variables *mot_affiche* et *essais* sur une même ligne."
      ],
      "metadata": {
        "id": "TsVwYTM1s957"
      }
    },
    {
      "cell_type": "code",
      "source": [],
      "metadata": {
        "id": "f6orkSFbuBCc"
      },
      "execution_count": null,
      "outputs": []
    },
    {
      "cell_type": "markdown",
      "source": [
        "## FIN DU DEUXIÈME CARNET"
      ],
      "metadata": {
        "id": "22WQj0yCt__v"
      }
    },
    {
      "cell_type": "markdown",
      "source": [
        "Ouvrir votre programme python à l'aide d'édupython et modifier et/ou ajouter à votre programme :\n",
        "\n",
        "* en début les codes qui créent et initialisent les variables *mot_mystere,*, *mot_partiel* et *essais* aux valeurs de départ.\n",
        "* une fonction qui contient le code pour afficher la règle du jeu. Cette fonction sera nommée *regle_du_jeu*.\n",
        "* une fonction qui transforme la variable *mot_partiel* sous la forme de trait. Cette fonction sera nommée *initialise_mot_partiel*.\n",
        "* une fonction qui affiche les variables *mot_affiche* et *essais* sur une même ligne. Cette fonction sera nommée *affichage*.\n",
        "* trois lignes qui appellent les trois fonctions précédentes.\n",
        "\n",
        "--\n",
        "\n",
        "Aide :\n",
        "\n",
        "* pour qu'une fonction puisse modifier une variable global, il faut le lui indiquer. Par exemple, la fonction *ajoute():* doit ajouter 1 à la variable global *compteur*, la structure sera alors la suivante :\n",
        "\n",
        "```\n",
        "# compteur = 0\n",
        "\n",
        "# def ajoute():\n",
        "#     global compteur\n",
        "#     compteur = compteur + 1\n",
        "```\n",
        "\n",
        "et non pas :\n",
        "\n",
        "```\n",
        "# compteur = 0\n",
        "\n",
        "# def ajoute():\n",
        "#     compteur = compteur + 1\n",
        "```\n",
        "\n",
        "qui donnera comme erreur « la variable *compteur* n'est pas définie »."
      ],
      "metadata": {
        "id": "pmIoZ6JHuGPK"
      }
    },
    {
      "cell_type": "markdown",
      "source": [
        "Votre programme doit maintenant afficher la règle du jeu.\n",
        "\n",
        "Puis afficher le mot mystère sous la forme de traits séparés par des espaces (le nombre de traits correspondant au nombre de lettres du mot mystère)."
      ],
      "metadata": {
        "id": "4la0L5Sdx8eh"
      }
    }
  ]
}